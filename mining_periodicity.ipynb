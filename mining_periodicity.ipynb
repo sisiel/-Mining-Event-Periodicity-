{
 "cells": [
  {
   "cell_type": "code",
   "execution_count": 18,
   "metadata": {},
   "outputs": [
    {
     "data": {
      "text/html": [
       "<div>\n",
       "<style scoped>\n",
       "    .dataframe tbody tr th:only-of-type {\n",
       "        vertical-align: middle;\n",
       "    }\n",
       "\n",
       "    .dataframe tbody tr th {\n",
       "        vertical-align: top;\n",
       "    }\n",
       "\n",
       "    .dataframe thead th {\n",
       "        text-align: right;\n",
       "    }\n",
       "</style>\n",
       "<table border=\"1\" class=\"dataframe\">\n",
       "  <thead>\n",
       "    <tr style=\"text-align: right;\">\n",
       "      <th></th>\n",
       "      <th>score</th>\n",
       "      <th>T</th>\n",
       "    </tr>\n",
       "  </thead>\n",
       "  <tbody>\n",
       "    <tr>\n",
       "      <th>0</th>\n",
       "      <td>2</td>\n",
       "      <td>{7}</td>\n",
       "    </tr>\n",
       "  </tbody>\n",
       "</table>\n",
       "</div>"
      ],
      "text/plain": [
       "   score    T\n",
       "0      2  {7}"
      ]
     },
     "execution_count": 18,
     "metadata": {},
     "output_type": "execute_result"
    }
   ],
   "source": [
    "from scipy.signal import find_peaks\n",
    "import pandas as pd\n",
    "import math\n",
    "import numpy as np\n",
    "import findspark\n",
    "\n",
    "tmls=[24,24*2,24*3,24*4,24*5,24*6,24*7,24*8,24*9,24*10,24*11,24*12,24*13,24*14,24*15,24*16,24*17,24*18,24*19,24*20,24*21,24*22,24*23]\n",
    "#tmls为候选周期列表\n",
    "dt1=([1,1,1,1,1,1,1,1,-1,1,1,1,1,1,1,1,1,1,1,1,1,1,1,1]*5+[0,0,0,-1,-1,0,0,0,0,-1,-1,0,0,0,0,-1,-1,0,0,0,0,-1,-1,0]*2)*10\n",
    "#dt1为用户行为数据，解释见上\n",
    "peak=[]\n",
    "rst=[]\n",
    "#算法第一步开始\n",
    "for i in tmls:\n",
    "\tp=0\n",
    "\tpsls=[]\n",
    "\tngls=[]\n",
    "\tfor j in range(i):\n",
    "\t\tdt2=dt1[j:-1:i]\n",
    "\t\tps=dt2.count(1)\n",
    "\t\tng=dt2.count(0)\n",
    "\t\tcmp=ps+ng\n",
    "\t\ttry:\n",
    "\t\t\tpj=ps/cmp\n",
    "\t\t\tqj=1-pj\n",
    "\t\texcept:\n",
    "\t\t\tpj=0\n",
    "\t\t\tqj=0\n",
    "\t\tpsls.append(pj)\n",
    "\t\tngls.append(qj)\n",
    "\tpssum=sum(psls)\n",
    "\tngsum=sum(ngls)\n",
    "\tfor n in range(i):\n",
    "\t\tif pssum and ngsum:\n",
    "\t\t\tc=psls[n]/pssum-ngls[n]/ngsum\n",
    "\t\telif pssum==0 and ngsum!=0:\n",
    "\t\t\tc=-ngls[n]/ngsum\n",
    "\t\telif pssum!=0 and ngsum==0:\n",
    "\t\t\tc=psls[n]/pssum\n",
    "\t\telse:\n",
    "\t\t\tc=0\n",
    "\t\tif c>0:\n",
    "\t\t\tp=p+c\n",
    "\tpeak.append(p)\n",
    "#算法第二步开始，搜索峰值并处理\n",
    "peak\n",
    "peak_locations=find_peaks(peak,threshold=0.03)\n",
    "prd=[i+1 for i in peak_locations[0]]\n",
    "score=0\n",
    "Tls=set()\n",
    "for o in range(len(prd)):\n",
    "\tfor p in range(o+1,len(prd)):\n",
    "\t\tif (prd[p]%prd[o])==0:\n",
    "\t\t\tscore=score+1\n",
    "\t\t\tTls.add(prd[o])\n",
    "rst.append([score,Tls])\n",
    "df1=pd.DataFrame(rst,columns=['score','T'])\n",
    "df1"
   ]
  },
  {
   "cell_type": "code",
   "execution_count": 13,
   "metadata": {},
   "outputs": [],
   "source": [
    "find_peaks?"
   ]
  },
  {
   "cell_type": "code",
   "execution_count": 17,
   "metadata": {},
   "outputs": [
    {
     "data": {
      "text/plain": [
       "1680"
      ]
     },
     "execution_count": 17,
     "metadata": {},
     "output_type": "execute_result"
    }
   ],
   "source": [
    "len(dt1)"
   ]
  },
  {
   "cell_type": "code",
   "execution_count": null,
   "metadata": {},
   "outputs": [],
   "source": []
  }
 ],
 "metadata": {
  "kernelspec": {
   "display_name": "Python 3",
   "language": "python",
   "name": "python3"
  },
  "language_info": {
   "codemirror_mode": {
    "name": "ipython",
    "version": 3
   },
   "file_extension": ".py",
   "mimetype": "text/x-python",
   "name": "python",
   "nbconvert_exporter": "python",
   "pygments_lexer": "ipython3",
   "version": "3.6.5"
  }
 },
 "nbformat": 4,
 "nbformat_minor": 2
}
